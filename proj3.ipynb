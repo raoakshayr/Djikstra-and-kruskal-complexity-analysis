{
 "cells": [
  {
   "cell_type": "code",
   "execution_count": 133,
   "metadata": {},
   "outputs": [],
   "source": [
    "#import necessary libraries\n",
    "import numpy as np\n",
    "import math\n",
    "import pickle\n",
    "import simplejson\n",
    "import time\n",
    "import pdb"
   ]
  },
  {
   "cell_type": "code",
   "execution_count": 134,
   "metadata": {},
   "outputs": [],
   "source": [
    "#graph can be defined using an adjacency list\n",
    "class node:\n",
    "    def __init__(self,vert_id=None,weight=None,nex=None):\n",
    "        self.vert_id=vert_id\n",
    "        self.weight=weight\n",
    "        self.nex=nex\n",
    "    def __str__(self):\n",
    "        return('Vert ID: '+ str(self.vert_id) +' Weight : '+ str(self.weight))\n",
    "\n",
    "class l_list(node):\n",
    "    def __init__(self,node):\n",
    "        self.head=node"
   ]
  },
  {
   "cell_type": "markdown",
   "metadata": {},
   "source": [
    "Now let us add some edges to this adjacency list at random with average degree of each vertex as 6 and random positive weights. \n",
    "I have made sure to avoid multiple edges. This is for the first graph G1."
   ]
  },
  {
   "cell_type": "code",
   "execution_count": 135,
   "metadata": {},
   "outputs": [],
   "source": [
    "def graph_gen1():\n",
    "    #Now let us create an adjacency list with all the vertices in the graph\n",
    "    adj_list1=[]\n",
    "    for i in range(5000):\n",
    "        head=node(i)\n",
    "        adj_list1.append(head)\n",
    "    verts=list(np.arange(5000))\n",
    "    \n",
    "    edges1=[]\n",
    "    for v in range (0,5000):    \n",
    "        degree_v=np.random.randint(2,8)\n",
    "        p=adj_list1[v]\n",
    "        while(p.nex!=None):\n",
    "            p=p.nex\n",
    "        vert_ids=np.random.choice(verts,min(degree_v,len(verts)-1),replace=False)\n",
    "        for edge in range(0,min(degree_v,len(verts)-1)):\n",
    "            weight=np.random.randint(1,1000)\n",
    "            w=vert_ids[edge]\n",
    "            p.nex=node(w,weight)\n",
    "            edges1.append([v,w,weight])\n",
    "            p=p.nex\n",
    "\n",
    "            q=adj_list1[w]\n",
    "            while(q.nex!=None):\n",
    "                q=q.nex\n",
    "            q.nex=node(v,weight)\n",
    "        #add one edge to next vertex to ensure graph is connected\n",
    "        if v<4999:\n",
    "            weight=np.random.randint(1,1000)\n",
    "            p.nex=node(v+1,weight)\n",
    "        verts.remove(v)\n",
    "    return adj_list1,edges1"
   ]
  },
  {
   "cell_type": "markdown",
   "metadata": {},
   "source": [
    "Now let us create one more graph G2 with edges assigned to around 20% of the remaining vertices. So it is clear that this graph is much more dense, there are far more number of edges. "
   ]
  },
  {
   "cell_type": "code",
   "execution_count": 136,
   "metadata": {},
   "outputs": [],
   "source": [
    "def graph_gen2():\n",
    "    #Now let us create an adjacency list with all the vertices in the graph\n",
    "    adj_list2=[]\n",
    "    for i in range(5000):\n",
    "        head=node(i)\n",
    "        adj_list2.append(head)\n",
    "    verts=list(np.arange(5000))\n",
    "\n",
    "    edges2=[]\n",
    "    for v in range (0,5000):    \n",
    "        degree_v=np.random.randint(80,120)\n",
    "        p=adj_list2[v]\n",
    "        while(p.nex!=None):\n",
    "            p=p.nex\n",
    "        vert_ids=np.random.choice(verts,int(len(verts)/5),replace=False)\n",
    "        for edge in range(0,len(vert_ids)):\n",
    "            weight=np.random.randint(1,1000)\n",
    "            w=vert_ids[edge]\n",
    "            p.nex=node(w,weight)\n",
    "            edges2.append([v,w,weight])\n",
    "            p=p.nex\n",
    "\n",
    "            q=adj_list2[w]\n",
    "            while(q.nex!=None):\n",
    "                q=q.nex\n",
    "            q.nex=node(v,weight)\n",
    "        #add one edge to next vertex to ensure graph is connected\n",
    "        if v<4999:\n",
    "            weight=np.random.randint(1,1000)\n",
    "            p.nex=node(v+1,weight)\n",
    "        verts.remove(v)\n",
    "        if v%500==0:\n",
    "            print(v,' of 5000')\n",
    "    return adj_list2,edges2"
   ]
  },
  {
   "cell_type": "markdown",
   "metadata": {},
   "source": [
    "Now let us implement a max heap, this will be used later for implementing a dijkstras style algorithm for routing. We see it being used for finding the optimum vertex in the fringe."
   ]
  },
  {
   "cell_type": "code",
   "execution_count": 137,
   "metadata": {},
   "outputs": [],
   "source": [
    "#now let us implement a max heap\n",
    "#vertex ids\n",
    "H=[]\n",
    "\n",
    "#vertex values\n",
    "D=list(np.zeros(5000))"
   ]
  },
  {
   "cell_type": "code",
   "execution_count": 138,
   "metadata": {},
   "outputs": [],
   "source": [
    "def insert(H,D,vert_id,value):\n",
    "    D[vert_id]=value\n",
    "    n=len(H)\n",
    "    n+=1\n",
    "    H.append(vert_id)\n",
    "    i=n-1\n",
    "    #while there are more than 1 members, and element is greater than parent\n",
    "    #push up new element while the max heap property is broken\n",
    "    while(i>0 and D[H[i]]>D[H[math.floor(i/2)]]):\n",
    "        #swap with parent\n",
    "        temp=H[i]\n",
    "        H[i]=H[math.floor(i/2)]\n",
    "        H[math.floor(i/2)]=temp\n",
    "        i=math.floor(i/2)\n",
    "    return(H,D)"
   ]
  },
  {
   "cell_type": "code",
   "execution_count": 139,
   "metadata": {},
   "outputs": [
    {
     "name": "stdout",
     "output_type": "stream",
     "text": [
      "10 [7, 1, 8, 6, 7, 6, 1, 2, 4, 4]\n"
     ]
    }
   ],
   "source": [
    "for i in range(10):\n",
    "    H,D=insert(H,D,i,np.random.randint(1,10))\n",
    "\n",
    "print(len(H),D[0:10])"
   ]
  },
  {
   "cell_type": "code",
   "execution_count": 140,
   "metadata": {},
   "outputs": [],
   "source": [
    "def maximum(H,D):\n",
    "    return H[0],D[H[0]]"
   ]
  },
  {
   "cell_type": "code",
   "execution_count": 141,
   "metadata": {},
   "outputs": [],
   "source": [
    "def delete(H,D,loc):\n",
    "    H[loc]=H[-1]\n",
    "    del H[-1]\n",
    "    n=len(H)-1\n",
    "    n-=1\n",
    "    i=loc\n",
    "    \n",
    "    #first let us handle the case when the element to be deleted is not the head\n",
    "    \n",
    "    #first let us handle broken max heap property with parent\n",
    "    if (i>0 and D[H[i]]>D[H[math.floor(i/2)]]):\n",
    "        while (i>0 and D[H[i]]>D[H[math.floor(i/2)]]):\n",
    "            temp=H[i]\n",
    "            H[i]=H[math.floor(i/2)]\n",
    "            H[math.floor(i/2)]=temp\n",
    "            i=math.floor(i/2)\n",
    "    #now let us handle broken property with children\n",
    "    else:\n",
    "        #while the max heap property is broken with children swap with larger of children\n",
    "        while(2*i<=n and (D[H[i]]<D[H[2*i]] or D[H[i]]<D[H[2*i+1]])):\n",
    "            if(2*i==n or D[H[2*i]]>D[H[2*i+1]]):\n",
    "                temp=H[i]\n",
    "                H[i]=H[2*i]\n",
    "                H[2*i]=temp\n",
    "                i=2*i\n",
    "            else:\n",
    "                temp=H[i]\n",
    "                H[i]=H[2*i+1]\n",
    "                H[2*i+1]=temp\n",
    "                i=2*i+1\n",
    "    return(H,D)"
   ]
  },
  {
   "cell_type": "markdown",
   "metadata": {},
   "source": [
    "Let us check the heap functions. "
   ]
  },
  {
   "cell_type": "code",
   "execution_count": 142,
   "metadata": {},
   "outputs": [
    {
     "name": "stdout",
     "output_type": "stream",
     "text": [
      "[2, 0, 4, 3, 8, 5, 6, 7, 1, 9] [7, 1, 8, 6, 7, 6, 1, 2, 4, 4]\n",
      "8\n",
      "7\n",
      "7\n",
      "6\n",
      "4\n",
      "6\n",
      "1\n",
      "2\n",
      "1\n",
      "4\n",
      "[2, 0, 5, 3, 8, 9, 6, 7, 1] [7, 1, 8, 6, 7, 6, 1, 2, 4, 4]\n",
      "8\n",
      "7\n",
      "6\n",
      "6\n",
      "4\n",
      "4\n",
      "1\n",
      "2\n",
      "1\n"
     ]
    }
   ],
   "source": [
    "print(H,D[0:10])\n",
    "for i in range(10):\n",
    "    print(D[H[i]])\n",
    "H,D=delete(H,D,2)\n",
    "print(H,D[0:10])\n",
    "for i in range(9):\n",
    "    print(D[H[i]])"
   ]
  },
  {
   "cell_type": "markdown",
   "metadata": {},
   "source": [
    "Now we will try implementing some routing algorithms for maximum bandwidth path. For the first one we will use a modified version of djikstras algorithm and for the fringes we will not be using the heap structure we have developed so far."
   ]
  },
  {
   "cell_type": "code",
   "execution_count": 143,
   "metadata": {},
   "outputs": [],
   "source": [
    "def djikstra_noheap(adj_list,s,t):\n",
    "\n",
    "    #let us first define the data structures which will be used here\n",
    "\n",
    "    #status will be zero for unseen, one for in fringe and 2 for in tree\n",
    "    #all vertices are initialized as unseen\n",
    "    status=np.zeros(5000)\n",
    "\n",
    "    #bandwidth of each vertex is the min bw of the path from the source to that vertex\n",
    "    bw=np.ones(5000)\n",
    "    bw=bw*10000\n",
    "\n",
    "    #dad array to give the path to each vertex \n",
    "    dad=np.zeros(5000)\n",
    "\n",
    "    #a datastructure to handle fringes\n",
    "    F=[]\n",
    "\n",
    "    # let us define source vertex as vertex 0\n",
    "    S=adj_list[s]\n",
    "\n",
    "    #let us define T vertex as last vertex\n",
    "    T=adj_list[t]\n",
    "\n",
    "    #initialize\n",
    "    status[S.vert_id]=2\n",
    "\n",
    "    start=time.time()\n",
    "\n",
    "    # assign all vertices connected to s as fringes and update dad array\n",
    "    p=S.nex\n",
    "    while(p!=None):\n",
    "        status[p.vert_id]=1\n",
    "        dad[p.vert_id]=S.vert_id\n",
    "        bw[p.vert_id]=min(bw[S.vert_id],p.weight)\n",
    "        F.append(p.vert_id)\n",
    "        p=p.nex\n",
    "    #print(F)\n",
    "\n",
    "    #now one at a time add the best vertex from the fringe into the intree. here the criteria for best is the one with\n",
    "    #maximum bandwidth.then update the dad array, the bw array and also add new vertices into the fringe accordingly.\n",
    "\n",
    "    while(len(F)!=0):\n",
    "        max_F=0\n",
    "        for i in range (len(F)):\n",
    "            if F[i]>max_F:\n",
    "                    max_F=i\n",
    "        #F_bws=np.array(bw[F])\n",
    "        #u=F[np.argmax(F_bws)]\n",
    "        u=F[max_F]\n",
    "        status[u]=2\n",
    "        F.remove(u)\n",
    "\n",
    "        #now let us visit all of u's edges\n",
    "        p=adj_list[u].nex\n",
    "        while(p!=None):\n",
    "            v=p.vert_id\n",
    "            # if vertex is unseen\n",
    "            if status[v]==0:\n",
    "                status[v]=1\n",
    "                dad[v]=u\n",
    "                bw[v]=min(bw[u],p.weight)\n",
    "                F.append(v)\n",
    "            #if vertex is a fringe and if we should update its bandwidth\n",
    "            elif (status[v]==1 and min(bw[u],p.weight)>bw[v]):\n",
    "                #status[v]=2\n",
    "                dad[v]=u\n",
    "                bw[v]=min(bw[u],p.weight)\n",
    "            p=p.nex\n",
    "    end=time.time()\n",
    "    #print(end-start)\n",
    "    return (end-start,dad)"
   ]
  },
  {
   "cell_type": "code",
   "execution_count": 144,
   "metadata": {},
   "outputs": [
    {
     "name": "stdout",
     "output_type": "stream",
     "text": [
      "0  of 5000\n",
      "500  of 5000\n",
      "1000  of 5000\n",
      "1500  of 5000\n",
      "2000  of 5000\n",
      "2500  of 5000\n",
      "3000  of 5000\n",
      "3500  of 5000\n",
      "4000  of 5000\n",
      "4500  of 5000\n",
      "6.506446123123169 2498500\n"
     ]
    }
   ],
   "source": [
    "adj_list,edges=graph_gen2()\n",
    "te,dad=djikstra_noheap(adj_list,0,499)\n",
    "print(te,len(edges))"
   ]
  },
  {
   "cell_type": "code",
   "execution_count": 145,
   "metadata": {},
   "outputs": [
    {
     "name": "stdout",
     "output_type": "stream",
     "text": [
      "0.8768455982208252 22412\n"
     ]
    }
   ],
   "source": [
    "adj_list,edges=graph_gen1()\n",
    "te,dad=djikstra_noheap(adj_list,0,499)\n",
    "print(te,len(edges))"
   ]
  },
  {
   "cell_type": "code",
   "execution_count": 131,
   "metadata": {},
   "outputs": [
    {
     "name": "stdout",
     "output_type": "stream",
     "text": [
      "2623.0\n",
      "0.0\n"
     ]
    }
   ],
   "source": [
    "w=dad[499]\n",
    "while(w!=0):\n",
    "    print (w)\n",
    "    w=dad[int(w)]\n",
    "print (w)"
   ]
  },
  {
   "cell_type": "code",
   "execution_count": 132,
   "metadata": {},
   "outputs": [
    {
     "name": "stdout",
     "output_type": "stream",
     "text": [
      "654.0\n",
      "4578.0\n",
      "3947.0\n",
      "418.0\n",
      "2047.0\n",
      "1964.0\n",
      "0.0\n"
     ]
    }
   ],
   "source": [
    "te,dad=djikstra_heap(adj_list,0,499)\n",
    "w=dad[499]\n",
    "while(w!=0):\n",
    "    print (w)\n",
    "    w=dad[int(w)]\n",
    "print (w)"
   ]
  },
  {
   "cell_type": "markdown",
   "metadata": {},
   "source": [
    "Now let us try and implement the maximum bandwidth path using the heap that we have designed."
   ]
  },
  {
   "cell_type": "code",
   "execution_count": 116,
   "metadata": {},
   "outputs": [],
   "source": [
    "def djikstra_heap(adj_list,s,t):\n",
    "\n",
    "    #let us first define the data structures which will be used here\n",
    "\n",
    "    #status will be zero for unseen, one for in fringe and 2 for in tree\n",
    "    #all vertices are initialized as unseen\n",
    "    status=np.zeros(5000)\n",
    "\n",
    "    #bandwidth of each vertex is the min bw of the path from the source to that vertex\n",
    "    bw=np.ones(5000)\n",
    "    bw=bw*10000\n",
    "\n",
    "    #dad array to give the path to each vertex \n",
    "    dad=np.zeros(5000)\n",
    "\n",
    "    #a datastructure to handle fringes by using heap\n",
    "    F_H=[]\n",
    "    F_count=0\n",
    "    F=[]\n",
    "\n",
    "    #vertex values\n",
    "    D=list(np.zeros(5000))\n",
    "\n",
    "    # let us define source vertex as vertex 0\n",
    "    S=adj_list[0]\n",
    "\n",
    "    #let us define T vertex as last vertex\n",
    "    T=adj_list[-1]\n",
    "\n",
    "    #initialize\n",
    "    status[S.vert_id]=2\n",
    "\n",
    "    start=time.time()\n",
    "    # assign all vertices connected to s as fringes and update dad array\n",
    "    p=S.nex\n",
    "    while(p!=None):\n",
    "        status[p.vert_id]=1\n",
    "        dad[p.vert_id]=S.vert_id\n",
    "        bw[p.vert_id]=min(bw[S.vert_id],p.weight)\n",
    "        F_H,D=insert(F_H,D,p.vert_id,p.weight)\n",
    "        F_count+=1\n",
    "        F.append(p.vert_id)\n",
    "        p=p.nex\n",
    "\n",
    "\n",
    "    #now one at a time add the best vertex from the fringe into the intree. here the criteria for best is the one with\n",
    "    #maximum bandwidth.then update the dad array, the bw array and also add new vertices into the fringe accordingly.\n",
    "    \n",
    "    while(F_count!=0):\n",
    "        #pdb.set_trace()\n",
    "        u,u_bw=maximum(F_H,D)\n",
    "        status[u]=2\n",
    "        F_H,D=delete(F_H,D,0)\n",
    "        F_count-=1\n",
    "        #F.remove(u)\n",
    "\n",
    "        #now let us visit all of u's edges\n",
    "        p=adj_list[u].nex\n",
    "        \n",
    "        while(p!=None):\n",
    "            v=p.vert_id\n",
    "            # if vertex is unseen\n",
    "            if status[v]==0:\n",
    "                status[v]=1\n",
    "                dad[v]=u\n",
    "                bw[v]=min(bw[u],p.weight)\n",
    "                F_H,D=insert(F_H,D,p.vert_id,p.weight)\n",
    "                #F.append(p.vert_id)\n",
    "                F_count+=1\n",
    "            #if vertex is a fringe and if we should update its bandwidth\n",
    "            elif (status[v]==1 and min(bw[u],p.weight)>bw[v]):\n",
    "                dad[v]=u\n",
    "                bw[v]=min(bw[u],p.weight)\n",
    "            p=p.nex\n",
    "    end=time.time()\n",
    "    #print(end-start)\n",
    "    return(end-start,dad)"
   ]
  },
  {
   "cell_type": "code",
   "execution_count": 114,
   "metadata": {},
   "outputs": [
    {
     "name": "stdout",
     "output_type": "stream",
     "text": [
      "0  of 5000\n"
     ]
    },
    {
     "ename": "KeyboardInterrupt",
     "evalue": "",
     "output_type": "error",
     "traceback": [
      "\u001b[0;31m---------------------------------------------------------------------------\u001b[0m",
      "\u001b[0;31mKeyboardInterrupt\u001b[0m                         Traceback (most recent call last)",
      "\u001b[0;32m<ipython-input-114-ef7adc029c89>\u001b[0m in \u001b[0;36m<module>\u001b[0;34m\u001b[0m\n\u001b[0;32m----> 1\u001b[0;31m \u001b[0madj_list\u001b[0m\u001b[0;34m,\u001b[0m\u001b[0medges\u001b[0m\u001b[0;34m=\u001b[0m\u001b[0mgraph_gen2\u001b[0m\u001b[0;34m(\u001b[0m\u001b[0;34m)\u001b[0m\u001b[0;34m\u001b[0m\u001b[0;34m\u001b[0m\u001b[0m\n\u001b[0m",
      "\u001b[0;32m<ipython-input-100-68d5e9ac0b64>\u001b[0m in \u001b[0;36mgraph_gen2\u001b[0;34m()\u001b[0m\n\u001b[1;32m     22\u001b[0m \u001b[0;34m\u001b[0m\u001b[0m\n\u001b[1;32m     23\u001b[0m             \u001b[0mq\u001b[0m\u001b[0;34m=\u001b[0m\u001b[0madj_list2\u001b[0m\u001b[0;34m[\u001b[0m\u001b[0mw\u001b[0m\u001b[0;34m]\u001b[0m\u001b[0;34m\u001b[0m\u001b[0;34m\u001b[0m\u001b[0m\n\u001b[0;32m---> 24\u001b[0;31m             \u001b[0;32mwhile\u001b[0m\u001b[0;34m(\u001b[0m\u001b[0mq\u001b[0m\u001b[0;34m.\u001b[0m\u001b[0mnex\u001b[0m\u001b[0;34m!=\u001b[0m\u001b[0;32mNone\u001b[0m\u001b[0;34m)\u001b[0m\u001b[0;34m:\u001b[0m\u001b[0;34m\u001b[0m\u001b[0;34m\u001b[0m\u001b[0m\n\u001b[0m\u001b[1;32m     25\u001b[0m                 \u001b[0mq\u001b[0m\u001b[0;34m=\u001b[0m\u001b[0mq\u001b[0m\u001b[0;34m.\u001b[0m\u001b[0mnex\u001b[0m\u001b[0;34m\u001b[0m\u001b[0;34m\u001b[0m\u001b[0m\n\u001b[1;32m     26\u001b[0m             \u001b[0mq\u001b[0m\u001b[0;34m.\u001b[0m\u001b[0mnex\u001b[0m\u001b[0;34m=\u001b[0m\u001b[0mnode\u001b[0m\u001b[0;34m(\u001b[0m\u001b[0mv\u001b[0m\u001b[0;34m,\u001b[0m\u001b[0mweight\u001b[0m\u001b[0;34m)\u001b[0m\u001b[0;34m\u001b[0m\u001b[0;34m\u001b[0m\u001b[0m\n",
      "\u001b[0;31mKeyboardInterrupt\u001b[0m: "
     ]
    }
   ],
   "source": [
    "adj_list,edges=graph_gen2()"
   ]
  },
  {
   "cell_type": "code",
   "execution_count": null,
   "metadata": {},
   "outputs": [],
   "source": [
    "te,dad=djikstra_heap(adj_list,0,4999)\n",
    "print(te)"
   ]
  },
  {
   "cell_type": "markdown",
   "metadata": {},
   "source": [
    "Now we can try implementing kruskals modification to solve the maximum bandwidth path"
   ]
  },
  {
   "cell_type": "code",
   "execution_count": 16,
   "metadata": {},
   "outputs": [],
   "source": [
    "def find(v,p):\n",
    "    #pdb.set_trace()\n",
    "    #print(v,p[v])\n",
    "    w=v\n",
    "    while (p[int(w)]!=-1):\n",
    "        w=p[int(w)]\n",
    "    return int(w)"
   ]
  },
  {
   "cell_type": "code",
   "execution_count": 17,
   "metadata": {},
   "outputs": [],
   "source": [
    "def union(r1,r2,dad,e,adj_listk,weight,rank):\n",
    "    if (rank[r1]>rank[r2]):\n",
    "        dad[r2]=int(r1)\n",
    "    elif (rank[r2]>rank[r1]):\n",
    "        dad[r1]=int(r2)\n",
    "    else:\n",
    "        dad[r1]=int(r2)\n",
    "        rank[r2]+=1\n",
    "    #add edge to graph\n",
    "    p=adj_listk[e[0]]\n",
    "    while(p.nex!=None):\n",
    "        p=p.nex\n",
    "    p.nex=node(e[1],weight)\n",
    "    \n",
    "    p=adj_listk[e[1]]\n",
    "    while(p.nex!=None):\n",
    "        p=p.nex\n",
    "    p.nex=node(e[0],weight)\n",
    "    \n",
    "    return dad,rank,adj_listk"
   ]
  },
  {
   "cell_type": "code",
   "execution_count": 18,
   "metadata": {},
   "outputs": [],
   "source": [
    "def dfs (adj_listk,dad,p,i,flag):\n",
    "    #pdb.set_trace()\n",
    "    if (p.vert_id ==4999 or dad[p.vert_id]!=0) and flag>0 and p.weight!=None:\n",
    "        return dad\n",
    "    else:\n",
    "        flag+=1\n",
    "        while (p.nex!=None):\n",
    "            if dad[p.nex.vert_id]==0:\n",
    "                dad[p.nex.vert_id]=i\n",
    "                p=p.nex\n",
    "                #print(p)\n",
    "                dad=dfs(adj_listk,dad,adj_listk[p.vert_id],p.vert_id,flag)\n",
    "            else:\n",
    "                p=p.nex\n",
    "    return dad"
   ]
  },
  {
   "cell_type": "code",
   "execution_count": 21,
   "metadata": {},
   "outputs": [],
   "source": [
    "def kruskal(edges,s,t):\n",
    "    #Now let us create an adjacency list with all the vertices in the graph\n",
    "    adj_listk=[]\n",
    "    for i in range(5000):\n",
    "        head=node(i)\n",
    "        adj_listk.append(head)\n",
    "    start = time.time()\n",
    "\n",
    "    #dad array\n",
    "    dad=np.ones(5000)\n",
    "    dad=dad*-1\n",
    "    rank=np.zeros(5000)\n",
    "\n",
    "    #all edges in edges1\n",
    "    #first we want to heap sort the edges by their weights\n",
    "    E_H=[]\n",
    "    D=np.zeros(len(edges))\n",
    "\n",
    "    for i in range (len(edges)):\n",
    "        E_H,D=insert(E_H,D,i,edges[i][2])\n",
    "\n",
    "    #pdb.set_trace()\n",
    "    sorted_edges1=[]\n",
    "    for j in range (len(edges)):\n",
    "        sorted_edges1.append(maximum(E_H,D))\n",
    "        E_H,D=delete(E_H,D,0)\n",
    "\n",
    "\n",
    "    \n",
    "    for i in range(len(edges)):\n",
    "        e=(edges[sorted_edges1[i][0]][0],edges[sorted_edges1[i][0]][1])\n",
    "        weight=edges[sorted_edges1[i][0]][2]\n",
    "        r1=find(e[0],dad)\n",
    "        r2=find(e[1],dad)\n",
    "        if (r1!=r2):\n",
    "            dad,rank,adj_listk=union(r1,r2,dad,e,adj_listk,weight,rank)\n",
    "    \n",
    "    \n",
    "    p=adj_listk[0]\n",
    "    dad=np.zeros(5000)\n",
    "    dad[0]=-1\n",
    "    \n",
    "    dad=dfs(adj_listk,dad,p,s,0)\n",
    "    end = time.time()\n",
    "    #print(end-start)\n",
    "    return (adj_listk,end-start)"
   ]
  },
  {
   "cell_type": "code",
   "execution_count": 22,
   "metadata": {},
   "outputs": [
    {
     "name": "stdout",
     "output_type": "stream",
     "text": [
      "0.379986047744751\n"
     ]
    }
   ],
   "source": [
    "adj_list,edges=graph_gen1()\n",
    "adj_listk,te=kruskal(edges,0,4999)\n",
    "print(te)"
   ]
  },
  {
   "cell_type": "markdown",
   "metadata": {},
   "source": [
    "Now let us do dfs from s and find the st  p"
   ]
  },
  {
   "cell_type": "code",
   "execution_count": 119,
   "metadata": {},
   "outputs": [
    {
     "name": "stdout",
     "output_type": "stream",
     "text": [
      "0  of 5000\n",
      "500  of 5000\n",
      "1000  of 5000\n",
      "1500  of 5000\n",
      "2000  of 5000\n",
      "2500  of 5000\n",
      "3000  of 5000\n",
      "3500  of 5000\n",
      "4000  of 5000\n",
      "4500  of 5000\n",
      "0  Djikstra_noheap :  0.9604141712188721\n",
      "0  Djikstra_heap :  0.09506964683532715\n",
      "0  kruskal :  0.36040496826171875\n",
      "0  Djikstra_noheap :  6.524407386779785\n",
      "0  Djikstra_heap :  5.355813026428223\n",
      "0  kruskal :  59.06829476356506\n",
      "0  Djikstra_noheap :  0.8230741024017334\n",
      "0  Djikstra_heap :  0.09593701362609863\n",
      "0  kruskal :  0.3598518371582031\n",
      "0  Djikstra_noheap :  6.391582727432251\n",
      "0  Djikstra_heap :  5.06118369102478\n",
      "0  kruskal :  58.01395916938782\n",
      "0  Djikstra_noheap :  1.0104858875274658\n",
      "0  Djikstra_heap :  0.10253167152404785\n",
      "0  kruskal :  0.3596971035003662\n",
      "0  Djikstra_noheap :  6.3130786418914795\n",
      "0  Djikstra_heap :  5.1317362785339355\n",
      "0  kruskal :  58.185612201690674\n",
      "0  Djikstra_noheap :  0.929145097732544\n",
      "0  Djikstra_heap :  0.09604763984680176\n",
      "0  kruskal :  0.37310242652893066\n",
      "0  Djikstra_noheap :  5.98224401473999\n",
      "0  Djikstra_heap :  5.131282329559326\n",
      "0  kruskal :  58.13582801818848\n",
      "0  Djikstra_noheap :  0.9722647666931152\n",
      "0  Djikstra_heap :  0.0951545238494873\n",
      "0  kruskal :  0.35706520080566406\n",
      "0  Djikstra_noheap :  6.161700963973999\n",
      "0  Djikstra_heap :  5.038306713104248\n",
      "0  kruskal :  57.71575570106506\n",
      "0  of 5000\n",
      "500  of 5000\n",
      "1000  of 5000\n",
      "1500  of 5000\n",
      "2000  of 5000\n",
      "2500  of 5000\n",
      "3000  of 5000\n",
      "3500  of 5000\n",
      "4000  of 5000\n",
      "4500  of 5000\n",
      "1  Djikstra_noheap :  0.9078054428100586\n",
      "1  Djikstra_heap :  0.09915637969970703\n",
      "1  kruskal :  0.4034912586212158\n",
      "1  Djikstra_noheap :  6.897038221359253\n",
      "1  Djikstra_heap :  5.31996750831604\n",
      "1  kruskal :  61.90473031997681\n",
      "1  Djikstra_noheap :  0.9630277156829834\n",
      "1  Djikstra_heap :  0.09860968589782715\n",
      "1  kruskal :  0.36410021781921387\n",
      "1  Djikstra_noheap :  6.185285329818726\n",
      "1  Djikstra_heap :  5.219504356384277\n",
      "1  kruskal :  62.559000968933105\n",
      "1  Djikstra_noheap :  0.9767317771911621\n",
      "1  Djikstra_heap :  0.11110997200012207\n",
      "1  kruskal :  0.36774730682373047\n",
      "1  Djikstra_noheap :  6.760485649108887\n",
      "1  Djikstra_heap :  5.450530767440796\n",
      "1  kruskal :  61.554028034210205\n",
      "1  Djikstra_noheap :  1.009054183959961\n",
      "1  Djikstra_heap :  0.10780644416809082\n",
      "1  kruskal :  0.36515378952026367\n",
      "1  Djikstra_noheap :  6.606226444244385\n",
      "1  Djikstra_heap :  5.120593786239624\n",
      "1  kruskal :  61.36924171447754\n",
      "1  Djikstra_noheap :  0.904888391494751\n",
      "1  Djikstra_heap :  0.10122084617614746\n",
      "1  kruskal :  0.3793795108795166\n",
      "1  Djikstra_noheap :  6.079667806625366\n",
      "1  Djikstra_heap :  5.424629211425781\n",
      "1  kruskal :  60.78294038772583\n",
      "0  of 5000\n",
      "500  of 5000\n",
      "1000  of 5000\n",
      "1500  of 5000\n",
      "2000  of 5000\n",
      "2500  of 5000\n",
      "3000  of 5000\n",
      "3500  of 5000\n",
      "4000  of 5000\n",
      "4500  of 5000\n",
      "2  Djikstra_noheap :  0.9290971755981445\n",
      "2  Djikstra_heap :  0.0974888801574707\n",
      "2  kruskal :  0.36112451553344727\n",
      "2  Djikstra_noheap :  6.353724479675293\n",
      "2  Djikstra_heap :  5.4724507331848145\n",
      "2  kruskal :  60.86830711364746\n",
      "2  Djikstra_noheap :  0.9565067291259766\n",
      "2  Djikstra_heap :  0.09690546989440918\n",
      "2  kruskal :  0.37264084815979004\n",
      "2  Djikstra_noheap :  6.353351593017578\n",
      "2  Djikstra_heap :  5.1084558963775635\n",
      "2  kruskal :  58.74929642677307\n",
      "2  Djikstra_noheap :  0.9478747844696045\n",
      "2  Djikstra_heap :  0.09972524642944336\n",
      "2  kruskal :  0.36223769187927246\n",
      "2  Djikstra_noheap :  6.456341505050659\n",
      "2  Djikstra_heap :  5.1480042934417725\n",
      "2  kruskal :  60.36770796775818\n",
      "2  Djikstra_noheap :  0.8675823211669922\n",
      "2  Djikstra_heap :  0.09781002998352051\n",
      "2  kruskal :  0.3636326789855957\n",
      "2  Djikstra_noheap :  5.847252607345581\n",
      "2  Djikstra_heap :  5.088428735733032\n",
      "2  kruskal :  58.69851326942444\n",
      "2  Djikstra_noheap :  0.9642364978790283\n",
      "2  Djikstra_heap :  0.10080456733703613\n",
      "2  kruskal :  0.37920260429382324\n",
      "2  Djikstra_noheap :  6.298924684524536\n",
      "2  Djikstra_heap :  5.116088628768921\n",
      "2  kruskal :  58.21125411987305\n",
      "0  of 5000\n",
      "500  of 5000\n",
      "1000  of 5000\n",
      "1500  of 5000\n",
      "2000  of 5000\n",
      "2500  of 5000\n",
      "3000  of 5000\n",
      "3500  of 5000\n",
      "4000  of 5000\n",
      "4500  of 5000\n",
      "3  Djikstra_noheap :  0.8038513660430908\n"
     ]
    },
    {
     "ename": "KeyboardInterrupt",
     "evalue": "",
     "output_type": "error",
     "traceback": [
      "\u001b[0;31m---------------------------------------------------------------------------\u001b[0m",
      "\u001b[0;31mKeyboardInterrupt\u001b[0m                         Traceback (most recent call last)",
      "\u001b[0;32m<ipython-input-119-e2d3130bafbf>\u001b[0m in \u001b[0;36m<module>\u001b[0;34m\u001b[0m\n\u001b[1;32m     14\u001b[0m         \u001b[0mprint\u001b[0m\u001b[0;34m(\u001b[0m\u001b[0mi\u001b[0m\u001b[0;34m,\u001b[0m\u001b[0;34m' Djikstra_noheap : '\u001b[0m\u001b[0;34m,\u001b[0m\u001b[0mte\u001b[0m\u001b[0;34m)\u001b[0m\u001b[0;34m\u001b[0m\u001b[0;34m\u001b[0m\u001b[0m\n\u001b[1;32m     15\u001b[0m         \u001b[0mtime_sparse\u001b[0m\u001b[0;34m[\u001b[0m\u001b[0;34m'Djikstra_noheap'\u001b[0m\u001b[0;34m]\u001b[0m\u001b[0;34m.\u001b[0m\u001b[0mappend\u001b[0m\u001b[0;34m(\u001b[0m\u001b[0mte\u001b[0m\u001b[0;34m)\u001b[0m\u001b[0;34m\u001b[0m\u001b[0;34m\u001b[0m\u001b[0m\n\u001b[0;32m---> 16\u001b[0;31m         \u001b[0mte\u001b[0m\u001b[0;34m,\u001b[0m\u001b[0mdad\u001b[0m\u001b[0;34m=\u001b[0m\u001b[0mdjikstra_heap\u001b[0m\u001b[0;34m(\u001b[0m\u001b[0madj_list1\u001b[0m\u001b[0;34m,\u001b[0m\u001b[0mst\u001b[0m\u001b[0;34m[\u001b[0m\u001b[0ms\u001b[0m\u001b[0;34m]\u001b[0m\u001b[0;34m,\u001b[0m\u001b[0mst\u001b[0m\u001b[0;34m[\u001b[0m\u001b[0mt\u001b[0m\u001b[0;34m]\u001b[0m\u001b[0;34m)\u001b[0m\u001b[0;34m\u001b[0m\u001b[0;34m\u001b[0m\u001b[0m\n\u001b[0m\u001b[1;32m     17\u001b[0m         \u001b[0mprint\u001b[0m\u001b[0;34m(\u001b[0m\u001b[0mi\u001b[0m\u001b[0;34m,\u001b[0m\u001b[0;34m' Djikstra_heap : '\u001b[0m\u001b[0;34m,\u001b[0m\u001b[0mte\u001b[0m\u001b[0;34m)\u001b[0m\u001b[0;34m\u001b[0m\u001b[0;34m\u001b[0m\u001b[0m\n\u001b[1;32m     18\u001b[0m         \u001b[0mtime_sparse\u001b[0m\u001b[0;34m[\u001b[0m\u001b[0;34m'Djikstra_heap'\u001b[0m\u001b[0;34m]\u001b[0m\u001b[0;34m.\u001b[0m\u001b[0mappend\u001b[0m\u001b[0;34m(\u001b[0m\u001b[0mte\u001b[0m\u001b[0;34m)\u001b[0m\u001b[0;34m\u001b[0m\u001b[0;34m\u001b[0m\u001b[0m\n",
      "\u001b[0;32m<ipython-input-116-4a68649e87c4>\u001b[0m in \u001b[0;36mdjikstra_heap\u001b[0;34m(adj_list, s, t)\u001b[0m\n\u001b[1;32m     51\u001b[0m         \u001b[0mu\u001b[0m\u001b[0;34m,\u001b[0m\u001b[0mu_bw\u001b[0m\u001b[0;34m=\u001b[0m\u001b[0mmaximum\u001b[0m\u001b[0;34m(\u001b[0m\u001b[0mF_H\u001b[0m\u001b[0;34m,\u001b[0m\u001b[0mD\u001b[0m\u001b[0;34m)\u001b[0m\u001b[0;34m\u001b[0m\u001b[0;34m\u001b[0m\u001b[0m\n\u001b[1;32m     52\u001b[0m         \u001b[0mstatus\u001b[0m\u001b[0;34m[\u001b[0m\u001b[0mu\u001b[0m\u001b[0;34m]\u001b[0m\u001b[0;34m=\u001b[0m\u001b[0;36m2\u001b[0m\u001b[0;34m\u001b[0m\u001b[0;34m\u001b[0m\u001b[0m\n\u001b[0;32m---> 53\u001b[0;31m         \u001b[0mF_H\u001b[0m\u001b[0;34m,\u001b[0m\u001b[0mD\u001b[0m\u001b[0;34m=\u001b[0m\u001b[0mdelete\u001b[0m\u001b[0;34m(\u001b[0m\u001b[0mF_H\u001b[0m\u001b[0;34m,\u001b[0m\u001b[0mD\u001b[0m\u001b[0;34m,\u001b[0m\u001b[0;36m0\u001b[0m\u001b[0;34m)\u001b[0m\u001b[0;34m\u001b[0m\u001b[0;34m\u001b[0m\u001b[0m\n\u001b[0m\u001b[1;32m     54\u001b[0m         \u001b[0mF_count\u001b[0m\u001b[0;34m-=\u001b[0m\u001b[0;36m1\u001b[0m\u001b[0;34m\u001b[0m\u001b[0;34m\u001b[0m\u001b[0m\n\u001b[1;32m     55\u001b[0m         \u001b[0;31m#F.remove(u)\u001b[0m\u001b[0;34m\u001b[0m\u001b[0;34m\u001b[0m\u001b[0;34m\u001b[0m\u001b[0m\n",
      "\u001b[0;32m<ipython-input-105-7149f9f45adf>\u001b[0m in \u001b[0;36mdelete\u001b[0;34m(H, D, loc)\u001b[0m\n\u001b[1;32m     23\u001b[0m                 \u001b[0mH\u001b[0m\u001b[0;34m[\u001b[0m\u001b[0mi\u001b[0m\u001b[0;34m]\u001b[0m\u001b[0;34m=\u001b[0m\u001b[0mH\u001b[0m\u001b[0;34m[\u001b[0m\u001b[0;36m2\u001b[0m\u001b[0;34m*\u001b[0m\u001b[0mi\u001b[0m\u001b[0;34m]\u001b[0m\u001b[0;34m\u001b[0m\u001b[0;34m\u001b[0m\u001b[0m\n\u001b[1;32m     24\u001b[0m                 \u001b[0mH\u001b[0m\u001b[0;34m[\u001b[0m\u001b[0;36m2\u001b[0m\u001b[0;34m*\u001b[0m\u001b[0mi\u001b[0m\u001b[0;34m]\u001b[0m\u001b[0;34m=\u001b[0m\u001b[0mtemp\u001b[0m\u001b[0;34m\u001b[0m\u001b[0;34m\u001b[0m\u001b[0m\n\u001b[0;32m---> 25\u001b[0;31m                 \u001b[0mi\u001b[0m\u001b[0;34m=\u001b[0m\u001b[0;36m2\u001b[0m\u001b[0;34m*\u001b[0m\u001b[0mi\u001b[0m\u001b[0;34m\u001b[0m\u001b[0;34m\u001b[0m\u001b[0m\n\u001b[0m\u001b[1;32m     26\u001b[0m             \u001b[0;32melse\u001b[0m\u001b[0;34m:\u001b[0m\u001b[0;34m\u001b[0m\u001b[0;34m\u001b[0m\u001b[0m\n\u001b[1;32m     27\u001b[0m                 \u001b[0mtemp\u001b[0m\u001b[0;34m=\u001b[0m\u001b[0mH\u001b[0m\u001b[0;34m[\u001b[0m\u001b[0mi\u001b[0m\u001b[0;34m]\u001b[0m\u001b[0;34m\u001b[0m\u001b[0;34m\u001b[0m\u001b[0m\n",
      "\u001b[0;31mKeyboardInterrupt\u001b[0m: "
     ]
    }
   ],
   "source": [
    "time_dense={'Djikstra_noheap':[],'Djikstra_heap':[],'kruskal':[]}\n",
    "time_sparse={'Djikstra_noheap':[],'Djikstra_heap':[],'kruskal':[]}\n",
    "sts=[]\n",
    "for i in range(5):\n",
    "    #np.random.seed(i+2)\n",
    "    st=np.random.choice(5000,size=10,replace=False)\n",
    "    sts.append(st)\n",
    "    adj_list1,edges1=graph_gen1()\n",
    "    adj_list2,edges2=graph_gen2()\n",
    "    for j in range (5):\n",
    "        s=j*2\n",
    "        t=j*2+1\n",
    "        te,dad=djikstra_noheap(adj_list1,st[s],st[t])\n",
    "        print(i,' Djikstra_noheap : ',te)\n",
    "        time_sparse['Djikstra_noheap'].append(te)\n",
    "        te,dad=djikstra_heap(adj_list1,st[s],st[t])\n",
    "        print(i,' Djikstra_heap : ',te)\n",
    "        time_sparse['Djikstra_heap'].append(te)\n",
    "        adj_listk,te=kruskal(edges1,st[s],st[t])\n",
    "        print(i,' kruskal : ',te)\n",
    "        time_sparse['kruskal'].append(te)\n",
    "        te,dad=djikstra_noheap(adj_list2,st[s],st[t])\n",
    "        print(i,' Djikstra_noheap : ',te)\n",
    "        time_dense['Djikstra_noheap'].append(te)\n",
    "        te,dad=djikstra_heap(adj_list2,st[s],st[t])\n",
    "        print(i,' Djikstra_heap : ',te)\n",
    "        time_dense['Djikstra_heap'].append(te)\n",
    "        adj_listk,te=kruskal(edges2,st[s],st[t])\n",
    "        print(i,' kruskal : ',te)\n",
    "        time_dense['kruskal'].append(te)\n"
   ]
  },
  {
   "cell_type": "code",
   "execution_count": null,
   "metadata": {},
   "outputs": [],
   "source": []
  }
 ],
 "metadata": {
  "kernelspec": {
   "display_name": "Python 3",
   "language": "python",
   "name": "python3"
  },
  "language_info": {
   "codemirror_mode": {
    "name": "ipython",
    "version": 3
   },
   "file_extension": ".py",
   "mimetype": "text/x-python",
   "name": "python",
   "nbconvert_exporter": "python",
   "pygments_lexer": "ipython3",
   "version": "3.6.8"
  }
 },
 "nbformat": 4,
 "nbformat_minor": 2
}
